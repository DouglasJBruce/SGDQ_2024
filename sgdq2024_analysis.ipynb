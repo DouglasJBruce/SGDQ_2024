{
 "cells": [
  {
   "cell_type": "code",
   "execution_count": 26,
   "id": "0bb36b07",
   "metadata": {},
   "outputs": [],
   "source": [
    "import pandas as pd\n",
    "import datetime as dt"
   ]
  },
  {
   "cell_type": "code",
   "execution_count": 2,
   "id": "1bcb37f8",
   "metadata": {},
   "outputs": [],
   "source": [
    "df = pd.read_csv('data/sgdq2024.csv')"
   ]
  },
  {
   "cell_type": "code",
   "execution_count": 3,
   "id": "a4808e77",
   "metadata": {},
   "outputs": [
    {
     "data": {
      "text/plain": [
       "Amount\n",
       "$25.00     9380\n",
       "$50.00     6279\n",
       "$10.00     4969\n",
       "$5.00      3857\n",
       "$100.00    3562\n",
       "           ... \n",
       "$40.50        1\n",
       "$12.60        1\n",
       "$134.00       1\n",
       "$148.00       1\n",
       "$25.64        1\n",
       "Name: count, Length: 641, dtype: int64"
      ]
     },
     "execution_count": 3,
     "metadata": {},
     "output_type": "execute_result"
    }
   ],
   "source": [
    "df.Amount.value_counts()"
   ]
  },
  {
   "cell_type": "code",
   "execution_count": 4,
   "id": "7182e9e2",
   "metadata": {},
   "outputs": [
    {
     "data": {
      "text/plain": [
       "Name\n",
       "(Anonymous)                7581\n",
       "Justin                       39\n",
       "Nick                         35\n",
       "Chris                        31\n",
       "Alex                         28\n",
       "                           ... \n",
       "Pixeleen                      1\n",
       "miasaika                      1\n",
       "uni                           1\n",
       "Felicitas                     1\n",
       "TwistyMazeLittlePassage       1\n",
       "Name: count, Length: 13302, dtype: int64"
      ]
     },
     "execution_count": 4,
     "metadata": {},
     "output_type": "execute_result"
    }
   ],
   "source": [
    "df.Name.value_counts()"
   ]
  },
  {
   "cell_type": "code",
   "execution_count": 5,
   "id": "4cbe708f",
   "metadata": {},
   "outputs": [
    {
     "data": {
      "text/plain": [
       "3731         $0.01\n",
       "304      $1,000.00\n",
       "11649    $1,000.00\n",
       "110      $1,000.00\n",
       "8329     $1,000.00\n",
       "           ...    \n",
       "20657       $97.00\n",
       "11710       $97.04\n",
       "8872        $99.00\n",
       "23680       $99.00\n",
       "28500       $99.99\n",
       "Name: Amount, Length: 33874, dtype: object"
      ]
     },
     "execution_count": 5,
     "metadata": {},
     "output_type": "execute_result"
    }
   ],
   "source": [
    "df.Amount.sort_values()"
   ]
  },
  {
   "cell_type": "code",
   "execution_count": 6,
   "id": "7087720d",
   "metadata": {},
   "outputs": [],
   "source": [
    "#dona.amount = [x.replace(',','') for x in dona.amount]\n",
    "df.Amount = [x.replace('$','') for x in df.Amount]\n",
    "df.Amount = [x.replace(',','') for x in df.Amount]"
   ]
  },
  {
   "cell_type": "code",
   "execution_count": 7,
   "id": "a1a389f8",
   "metadata": {},
   "outputs": [],
   "source": [
    "df.Amount = df.Amount.astype(float)"
   ]
  },
  {
   "cell_type": "code",
   "execution_count": 8,
   "id": "a6f01088",
   "metadata": {},
   "outputs": [
    {
     "data": {
      "text/html": [
       "<div>\n",
       "<style scoped>\n",
       "    .dataframe tbody tr th:only-of-type {\n",
       "        vertical-align: middle;\n",
       "    }\n",
       "\n",
       "    .dataframe tbody tr th {\n",
       "        vertical-align: top;\n",
       "    }\n",
       "\n",
       "    .dataframe thead th {\n",
       "        text-align: right;\n",
       "    }\n",
       "</style>\n",
       "<table border=\"1\" class=\"dataframe\">\n",
       "  <thead>\n",
       "    <tr style=\"text-align: right;\">\n",
       "      <th></th>\n",
       "      <th>Name</th>\n",
       "      <th>Time Received</th>\n",
       "      <th>Amount</th>\n",
       "      <th>Comment</th>\n",
       "    </tr>\n",
       "  </thead>\n",
       "  <tbody>\n",
       "    <tr>\n",
       "      <th>24166</th>\n",
       "      <td>Humble</td>\n",
       "      <td>2024-07-03T17:06:53-05:00</td>\n",
       "      <td>5000.0</td>\n",
       "      <td>Yes</td>\n",
       "    </tr>\n",
       "    <tr>\n",
       "      <th>9170</th>\n",
       "      <td>Aggro Crab Games</td>\n",
       "      <td>2024-07-06T15:34:27.358866-05:00</td>\n",
       "      <td>5000.0</td>\n",
       "      <td>Yes</td>\n",
       "    </tr>\n",
       "    <tr>\n",
       "      <th>10523</th>\n",
       "      <td>(Anonymous)</td>\n",
       "      <td>2024-07-06T10:35:43.920768-05:00</td>\n",
       "      <td>6000.0</td>\n",
       "      <td>No</td>\n",
       "    </tr>\n",
       "    <tr>\n",
       "      <th>4577</th>\n",
       "      <td>Adam</td>\n",
       "      <td>2024-07-06T21:40:32.782410-05:00</td>\n",
       "      <td>8000.0</td>\n",
       "      <td>Yes</td>\n",
       "    </tr>\n",
       "    <tr>\n",
       "      <th>22140</th>\n",
       "      <td>(Anonymous)</td>\n",
       "      <td>2024-07-03T23:47:41.455087-05:00</td>\n",
       "      <td>9001.0</td>\n",
       "      <td>Yes</td>\n",
       "    </tr>\n",
       "    <tr>\n",
       "      <th>17409</th>\n",
       "      <td>The Yetee</td>\n",
       "      <td>2024-07-04T22:41:16.310645-05:00</td>\n",
       "      <td>10000.0</td>\n",
       "      <td>Yes</td>\n",
       "    </tr>\n",
       "    <tr>\n",
       "      <th>24051</th>\n",
       "      <td>The Yetee</td>\n",
       "      <td>2024-07-03T17:20:21.023591-05:00</td>\n",
       "      <td>10000.0</td>\n",
       "      <td>Yes</td>\n",
       "    </tr>\n",
       "    <tr>\n",
       "      <th>19336</th>\n",
       "      <td>The Yetee</td>\n",
       "      <td>2024-07-04T18:34:46.004032-05:00</td>\n",
       "      <td>10000.0</td>\n",
       "      <td>Yes</td>\n",
       "    </tr>\n",
       "    <tr>\n",
       "      <th>7613</th>\n",
       "      <td>Fangamer</td>\n",
       "      <td>2024-07-06T18:29:23.908368-05:00</td>\n",
       "      <td>10000.0</td>\n",
       "      <td>Yes</td>\n",
       "    </tr>\n",
       "    <tr>\n",
       "      <th>14889</th>\n",
       "      <td>The Yetee</td>\n",
       "      <td>2024-07-05T14:11:43.767667-05:00</td>\n",
       "      <td>10000.0</td>\n",
       "      <td>Yes</td>\n",
       "    </tr>\n",
       "    <tr>\n",
       "      <th>10163</th>\n",
       "      <td>The Yetee</td>\n",
       "      <td>2024-07-06T12:43:53.197568-05:00</td>\n",
       "      <td>10000.0</td>\n",
       "      <td>Yes</td>\n",
       "    </tr>\n",
       "    <tr>\n",
       "      <th>30668</th>\n",
       "      <td>Fangamer</td>\n",
       "      <td>2024-07-01T15:14:20.685410-05:00</td>\n",
       "      <td>10000.0</td>\n",
       "      <td>Yes</td>\n",
       "    </tr>\n",
       "    <tr>\n",
       "      <th>3733</th>\n",
       "      <td>Humble</td>\n",
       "      <td>2024-07-06T22:19:34-05:00</td>\n",
       "      <td>13070.0</td>\n",
       "      <td>Yes</td>\n",
       "    </tr>\n",
       "    <tr>\n",
       "      <th>3124</th>\n",
       "      <td>The Yetee</td>\n",
       "      <td>2024-07-06T23:15:57.533544-05:00</td>\n",
       "      <td>15000.0</td>\n",
       "      <td>Yes</td>\n",
       "    </tr>\n",
       "    <tr>\n",
       "      <th>3595</th>\n",
       "      <td>(Anonymous)</td>\n",
       "      <td>2024-07-06T22:23:49.757440-05:00</td>\n",
       "      <td>15000.0</td>\n",
       "      <td>Yes</td>\n",
       "    </tr>\n",
       "    <tr>\n",
       "      <th>8776</th>\n",
       "      <td>The Yetee</td>\n",
       "      <td>2024-07-06T16:39:18.470216-05:00</td>\n",
       "      <td>15000.0</td>\n",
       "      <td>Yes</td>\n",
       "    </tr>\n",
       "    <tr>\n",
       "      <th>12</th>\n",
       "      <td>The Yetee</td>\n",
       "      <td>2024-07-08T09:11:49.535560-05:00</td>\n",
       "      <td>23422.0</td>\n",
       "      <td>Yes</td>\n",
       "    </tr>\n",
       "    <tr>\n",
       "      <th>4340</th>\n",
       "      <td>The Yetee</td>\n",
       "      <td>2024-07-06T21:47:13.982576-05:00</td>\n",
       "      <td>25000.0</td>\n",
       "      <td>Yes</td>\n",
       "    </tr>\n",
       "    <tr>\n",
       "      <th>5796</th>\n",
       "      <td>The Yetee</td>\n",
       "      <td>2024-07-06T20:12:23.772524-05:00</td>\n",
       "      <td>25000.0</td>\n",
       "      <td>Yes</td>\n",
       "    </tr>\n",
       "    <tr>\n",
       "      <th>3096</th>\n",
       "      <td>Games Done Quick</td>\n",
       "      <td>2024-07-06T23:22:50-05:00</td>\n",
       "      <td>290000.0</td>\n",
       "      <td>Yes</td>\n",
       "    </tr>\n",
       "  </tbody>\n",
       "</table>\n",
       "</div>"
      ],
      "text/plain": [
       "                   Name                     Time Received    Amount Comment\n",
       "24166            Humble         2024-07-03T17:06:53-05:00    5000.0     Yes\n",
       "9170   Aggro Crab Games  2024-07-06T15:34:27.358866-05:00    5000.0     Yes\n",
       "10523       (Anonymous)  2024-07-06T10:35:43.920768-05:00    6000.0      No\n",
       "4577               Adam  2024-07-06T21:40:32.782410-05:00    8000.0     Yes\n",
       "22140       (Anonymous)  2024-07-03T23:47:41.455087-05:00    9001.0     Yes\n",
       "17409         The Yetee  2024-07-04T22:41:16.310645-05:00   10000.0     Yes\n",
       "24051         The Yetee  2024-07-03T17:20:21.023591-05:00   10000.0     Yes\n",
       "19336         The Yetee  2024-07-04T18:34:46.004032-05:00   10000.0     Yes\n",
       "7613           Fangamer  2024-07-06T18:29:23.908368-05:00   10000.0     Yes\n",
       "14889         The Yetee  2024-07-05T14:11:43.767667-05:00   10000.0     Yes\n",
       "10163         The Yetee  2024-07-06T12:43:53.197568-05:00   10000.0     Yes\n",
       "30668          Fangamer  2024-07-01T15:14:20.685410-05:00   10000.0     Yes\n",
       "3733             Humble         2024-07-06T22:19:34-05:00   13070.0     Yes\n",
       "3124          The Yetee  2024-07-06T23:15:57.533544-05:00   15000.0     Yes\n",
       "3595        (Anonymous)  2024-07-06T22:23:49.757440-05:00   15000.0     Yes\n",
       "8776          The Yetee  2024-07-06T16:39:18.470216-05:00   15000.0     Yes\n",
       "12            The Yetee  2024-07-08T09:11:49.535560-05:00   23422.0     Yes\n",
       "4340          The Yetee  2024-07-06T21:47:13.982576-05:00   25000.0     Yes\n",
       "5796          The Yetee  2024-07-06T20:12:23.772524-05:00   25000.0     Yes\n",
       "3096   Games Done Quick         2024-07-06T23:22:50-05:00  290000.0     Yes"
      ]
     },
     "execution_count": 8,
     "metadata": {},
     "output_type": "execute_result"
    }
   ],
   "source": [
    "df.sort_values('Amount').tail(20)"
   ]
  },
  {
   "cell_type": "code",
   "execution_count": 9,
   "id": "67bdbc9a",
   "metadata": {},
   "outputs": [
    {
     "data": {
      "text/plain": [
       "Name\n",
       "UraniumAnchor         5005.00\n",
       "Dashaque              5050.00\n",
       "Nuclear Cheese        7000.00\n",
       "mot                   8086.66\n",
       "Adam                  9220.00\n",
       "Humble               23070.00\n",
       "Fangamer             45000.00\n",
       "The Yetee           188422.00\n",
       "Games Done Quick    290000.00\n",
       "(Anonymous)         541795.14\n",
       "Name: Amount, dtype: float64"
      ]
     },
     "execution_count": 9,
     "metadata": {},
     "output_type": "execute_result"
    }
   ],
   "source": [
    "df.groupby(by = 'Name')['Amount'].sum().sort_values().tail(10)"
   ]
  },
  {
   "cell_type": "code",
   "execution_count": 10,
   "id": "e131c666",
   "metadata": {},
   "outputs": [
    {
     "data": {
      "text/plain": [
       "2573462.3900000006"
      ]
     },
     "execution_count": 10,
     "metadata": {},
     "output_type": "execute_result"
    }
   ],
   "source": [
    "df.Amount.sum()"
   ]
  },
  {
   "cell_type": "code",
   "execution_count": 11,
   "id": "e5d82b98",
   "metadata": {},
   "outputs": [
    {
     "data": {
      "text/plain": [
       "0.2"
      ]
     },
     "execution_count": 11,
     "metadata": {},
     "output_type": "execute_result"
    }
   ],
   "source": [
    "500000/2500000"
   ]
  },
  {
   "cell_type": "code",
   "execution_count": 15,
   "id": "8a311b5b",
   "metadata": {},
   "outputs": [],
   "source": [
    "df.columns = ['name','time','amount','comment']"
   ]
  },
  {
   "cell_type": "code",
   "execution_count": 20,
   "id": "0877cde1",
   "metadata": {},
   "outputs": [],
   "source": [
    "df.time = [ pd.to_datetime(i[:-6]) for i in df['time']]"
   ]
  },
  {
   "cell_type": "code",
   "execution_count": 21,
   "id": "66a15651",
   "metadata": {},
   "outputs": [
    {
     "data": {
      "text/html": [
       "<div>\n",
       "<style scoped>\n",
       "    .dataframe tbody tr th:only-of-type {\n",
       "        vertical-align: middle;\n",
       "    }\n",
       "\n",
       "    .dataframe tbody tr th {\n",
       "        vertical-align: top;\n",
       "    }\n",
       "\n",
       "    .dataframe thead th {\n",
       "        text-align: right;\n",
       "    }\n",
       "</style>\n",
       "<table border=\"1\" class=\"dataframe\">\n",
       "  <thead>\n",
       "    <tr style=\"text-align: right;\">\n",
       "      <th></th>\n",
       "      <th>name</th>\n",
       "      <th>time</th>\n",
       "      <th>amount</th>\n",
       "      <th>comment</th>\n",
       "    </tr>\n",
       "  </thead>\n",
       "  <tbody>\n",
       "    <tr>\n",
       "      <th>0</th>\n",
       "      <td>Murphy</td>\n",
       "      <td>2024-07-09 16:58:05.458407</td>\n",
       "      <td>5.0</td>\n",
       "      <td>Yes</td>\n",
       "    </tr>\n",
       "    <tr>\n",
       "      <th>1</th>\n",
       "      <td>Chris</td>\n",
       "      <td>2024-07-09 14:40:30.484599</td>\n",
       "      <td>100.0</td>\n",
       "      <td>Yes</td>\n",
       "    </tr>\n",
       "    <tr>\n",
       "      <th>2</th>\n",
       "      <td>whispertell</td>\n",
       "      <td>2024-07-09 09:25:48.918931</td>\n",
       "      <td>5.0</td>\n",
       "      <td>Yes</td>\n",
       "    </tr>\n",
       "    <tr>\n",
       "      <th>3</th>\n",
       "      <td>(Anonymous)</td>\n",
       "      <td>2024-07-09 07:41:10.499014</td>\n",
       "      <td>10.0</td>\n",
       "      <td>No</td>\n",
       "    </tr>\n",
       "    <tr>\n",
       "      <th>4</th>\n",
       "      <td>(Anonymous)</td>\n",
       "      <td>2024-07-08 17:51:08.288931</td>\n",
       "      <td>50.0</td>\n",
       "      <td>No</td>\n",
       "    </tr>\n",
       "    <tr>\n",
       "      <th>...</th>\n",
       "      <td>...</td>\n",
       "      <td>...</td>\n",
       "      <td>...</td>\n",
       "      <td>...</td>\n",
       "    </tr>\n",
       "    <tr>\n",
       "      <th>33869</th>\n",
       "      <td>Jesse Cramblit</td>\n",
       "      <td>2024-06-30 11:00:40.033139</td>\n",
       "      <td>10.0</td>\n",
       "      <td>No</td>\n",
       "    </tr>\n",
       "    <tr>\n",
       "      <th>33870</th>\n",
       "      <td>BuffaloChickenMan</td>\n",
       "      <td>2024-06-30 10:56:09.227786</td>\n",
       "      <td>5.0</td>\n",
       "      <td>Yes</td>\n",
       "    </tr>\n",
       "    <tr>\n",
       "      <th>33871</th>\n",
       "      <td>TwistyMazeLittlePassage</td>\n",
       "      <td>2024-06-30 10:25:31.658919</td>\n",
       "      <td>1000.0</td>\n",
       "      <td>Yes</td>\n",
       "    </tr>\n",
       "    <tr>\n",
       "      <th>33872</th>\n",
       "      <td>Drakon</td>\n",
       "      <td>2024-06-30 09:30:53.458388</td>\n",
       "      <td>5.0</td>\n",
       "      <td>Yes</td>\n",
       "    </tr>\n",
       "    <tr>\n",
       "      <th>33873</th>\n",
       "      <td>UraniumAnchor</td>\n",
       "      <td>2024-06-29 21:10:15.773173</td>\n",
       "      <td>5.0</td>\n",
       "      <td>Yes</td>\n",
       "    </tr>\n",
       "  </tbody>\n",
       "</table>\n",
       "<p>33874 rows × 4 columns</p>\n",
       "</div>"
      ],
      "text/plain": [
       "                          name                       time  amount comment\n",
       "0                       Murphy 2024-07-09 16:58:05.458407     5.0     Yes\n",
       "1                        Chris 2024-07-09 14:40:30.484599   100.0     Yes\n",
       "2                  whispertell 2024-07-09 09:25:48.918931     5.0     Yes\n",
       "3                  (Anonymous) 2024-07-09 07:41:10.499014    10.0      No\n",
       "4                  (Anonymous) 2024-07-08 17:51:08.288931    50.0      No\n",
       "...                        ...                        ...     ...     ...\n",
       "33869           Jesse Cramblit 2024-06-30 11:00:40.033139    10.0      No\n",
       "33870        BuffaloChickenMan 2024-06-30 10:56:09.227786     5.0     Yes\n",
       "33871  TwistyMazeLittlePassage 2024-06-30 10:25:31.658919  1000.0     Yes\n",
       "33872                   Drakon 2024-06-30 09:30:53.458388     5.0     Yes\n",
       "33873            UraniumAnchor 2024-06-29 21:10:15.773173     5.0     Yes\n",
       "\n",
       "[33874 rows x 4 columns]"
      ]
     },
     "execution_count": 21,
     "metadata": {},
     "output_type": "execute_result"
    }
   ],
   "source": [
    "df"
   ]
  },
  {
   "cell_type": "code",
   "execution_count": 22,
   "id": "5fa6850d",
   "metadata": {},
   "outputs": [],
   "source": [
    "adf = pd.read_csv('data/agdq2024.csv')"
   ]
  },
  {
   "cell_type": "code",
   "execution_count": 23,
   "id": "36d1e55d",
   "metadata": {},
   "outputs": [
    {
     "data": {
      "text/html": [
       "<div>\n",
       "<style scoped>\n",
       "    .dataframe tbody tr th:only-of-type {\n",
       "        vertical-align: middle;\n",
       "    }\n",
       "\n",
       "    .dataframe tbody tr th {\n",
       "        vertical-align: top;\n",
       "    }\n",
       "\n",
       "    .dataframe thead th {\n",
       "        text-align: right;\n",
       "    }\n",
       "</style>\n",
       "<table border=\"1\" class=\"dataframe\">\n",
       "  <thead>\n",
       "    <tr style=\"text-align: right;\">\n",
       "      <th></th>\n",
       "      <th>name</th>\n",
       "      <th>time</th>\n",
       "      <th>amount</th>\n",
       "      <th>comment</th>\n",
       "      <th>hour</th>\n",
       "      <th>day</th>\n",
       "      <th>datetime</th>\n",
       "      <th>run</th>\n",
       "    </tr>\n",
       "  </thead>\n",
       "  <tbody>\n",
       "    <tr>\n",
       "      <th>0</th>\n",
       "      <td>The Yetee</td>\n",
       "      <td>2024-01-22 15:02:12.836533</td>\n",
       "      <td>16318.00</td>\n",
       "      <td>Yes</td>\n",
       "      <td>15:00</td>\n",
       "      <td>22</td>\n",
       "      <td>1-22 15:00</td>\n",
       "      <td>NaN</td>\n",
       "    </tr>\n",
       "    <tr>\n",
       "      <th>1</th>\n",
       "      <td>Fangamer</td>\n",
       "      <td>2024-01-22 14:53:48.688305</td>\n",
       "      <td>2483.00</td>\n",
       "      <td>Yes</td>\n",
       "      <td>14:00</td>\n",
       "      <td>22</td>\n",
       "      <td>1-22 14:00</td>\n",
       "      <td>NaN</td>\n",
       "    </tr>\n",
       "    <tr>\n",
       "      <th>2</th>\n",
       "      <td>(Anonymous)</td>\n",
       "      <td>2024-01-21 16:14:51.311903</td>\n",
       "      <td>25.00</td>\n",
       "      <td>No</td>\n",
       "      <td>16:00</td>\n",
       "      <td>21</td>\n",
       "      <td>1-21 16:00</td>\n",
       "      <td>Finale! The End</td>\n",
       "    </tr>\n",
       "    <tr>\n",
       "      <th>3</th>\n",
       "      <td>(Anonymous)</td>\n",
       "      <td>2024-01-21 15:44:09.924101</td>\n",
       "      <td>1741.53</td>\n",
       "      <td>No</td>\n",
       "      <td>15:00</td>\n",
       "      <td>21</td>\n",
       "      <td>1-21 15:00</td>\n",
       "      <td>Finale! The End</td>\n",
       "    </tr>\n",
       "    <tr>\n",
       "      <th>4</th>\n",
       "      <td>TrueTemplar41</td>\n",
       "      <td>2024-01-21 15:19:29.462119</td>\n",
       "      <td>28.00</td>\n",
       "      <td>No</td>\n",
       "      <td>15:00</td>\n",
       "      <td>21</td>\n",
       "      <td>1-21 15:00</td>\n",
       "      <td>Finale! The End</td>\n",
       "    </tr>\n",
       "    <tr>\n",
       "      <th>...</th>\n",
       "      <td>...</td>\n",
       "      <td>...</td>\n",
       "      <td>...</td>\n",
       "      <td>...</td>\n",
       "      <td>...</td>\n",
       "      <td>...</td>\n",
       "      <td>...</td>\n",
       "      <td>...</td>\n",
       "    </tr>\n",
       "    <tr>\n",
       "      <th>36178</th>\n",
       "      <td>esmioley</td>\n",
       "      <td>2024-01-14 11:02:36.509249</td>\n",
       "      <td>25.00</td>\n",
       "      <td>No</td>\n",
       "      <td>11:00</td>\n",
       "      <td>14</td>\n",
       "      <td>1-14 11:00</td>\n",
       "      <td>NaN</td>\n",
       "    </tr>\n",
       "    <tr>\n",
       "      <th>36179</th>\n",
       "      <td>Scipio Wright</td>\n",
       "      <td>2024-01-14 10:46:50.557657</td>\n",
       "      <td>100.00</td>\n",
       "      <td>Yes</td>\n",
       "      <td>10:00</td>\n",
       "      <td>14</td>\n",
       "      <td>1-14 10:00</td>\n",
       "      <td>NaN</td>\n",
       "    </tr>\n",
       "    <tr>\n",
       "      <th>36180</th>\n",
       "      <td>Epsilon Minus</td>\n",
       "      <td>2024-01-13 10:42:52.500843</td>\n",
       "      <td>5.00</td>\n",
       "      <td>Yes</td>\n",
       "      <td>10:00</td>\n",
       "      <td>13</td>\n",
       "      <td>1-13 10:00</td>\n",
       "      <td>NaN</td>\n",
       "    </tr>\n",
       "    <tr>\n",
       "      <th>36181</th>\n",
       "      <td>Andrew Peterson</td>\n",
       "      <td>2024-01-12 16:01:49.600958</td>\n",
       "      <td>10.00</td>\n",
       "      <td>Yes</td>\n",
       "      <td>16:00</td>\n",
       "      <td>12</td>\n",
       "      <td>1-12 16:00</td>\n",
       "      <td>NaN</td>\n",
       "    </tr>\n",
       "    <tr>\n",
       "      <th>36182</th>\n",
       "      <td>(Anonymous)</td>\n",
       "      <td>2024-01-12 15:23:45.416710</td>\n",
       "      <td>5.00</td>\n",
       "      <td>No</td>\n",
       "      <td>15:00</td>\n",
       "      <td>12</td>\n",
       "      <td>1-12 15:00</td>\n",
       "      <td>NaN</td>\n",
       "    </tr>\n",
       "  </tbody>\n",
       "</table>\n",
       "<p>36183 rows × 8 columns</p>\n",
       "</div>"
      ],
      "text/plain": [
       "                  name                        time    amount comment   hour  \\\n",
       "0            The Yetee  2024-01-22 15:02:12.836533  16318.00     Yes  15:00   \n",
       "1             Fangamer  2024-01-22 14:53:48.688305   2483.00     Yes  14:00   \n",
       "2          (Anonymous)  2024-01-21 16:14:51.311903     25.00      No  16:00   \n",
       "3          (Anonymous)  2024-01-21 15:44:09.924101   1741.53      No  15:00   \n",
       "4        TrueTemplar41  2024-01-21 15:19:29.462119     28.00      No  15:00   \n",
       "...                ...                         ...       ...     ...    ...   \n",
       "36178         esmioley  2024-01-14 11:02:36.509249     25.00      No  11:00   \n",
       "36179    Scipio Wright  2024-01-14 10:46:50.557657    100.00     Yes  10:00   \n",
       "36180    Epsilon Minus  2024-01-13 10:42:52.500843      5.00     Yes  10:00   \n",
       "36181  Andrew Peterson  2024-01-12 16:01:49.600958     10.00     Yes  16:00   \n",
       "36182      (Anonymous)  2024-01-12 15:23:45.416710      5.00      No  15:00   \n",
       "\n",
       "       day    datetime              run  \n",
       "0       22  1-22 15:00              NaN  \n",
       "1       22  1-22 14:00              NaN  \n",
       "2       21  1-21 16:00  Finale! The End  \n",
       "3       21  1-21 15:00  Finale! The End  \n",
       "4       21  1-21 15:00  Finale! The End  \n",
       "...    ...         ...              ...  \n",
       "36178   14  1-14 11:00              NaN  \n",
       "36179   14  1-14 10:00              NaN  \n",
       "36180   13  1-13 10:00              NaN  \n",
       "36181   12  1-12 16:00              NaN  \n",
       "36182   12  1-12 15:00              NaN  \n",
       "\n",
       "[36183 rows x 8 columns]"
      ]
     },
     "execution_count": 23,
     "metadata": {},
     "output_type": "execute_result"
    }
   ],
   "source": [
    "adf"
   ]
  },
  {
   "cell_type": "code",
   "execution_count": 25,
   "id": "01750eea",
   "metadata": {},
   "outputs": [
    {
     "data": {
      "text/plain": [
       "name                         Peanut153\n",
       "time        2024-01-20 14:39:26.723807\n",
       "amount                            50.0\n",
       "comment                             No\n",
       "hour                             14:00\n",
       "day                                 20\n",
       "datetime                    1-20 14:00\n",
       "run                         Elden Ring\n",
       "Name: 10000, dtype: object"
      ]
     },
     "execution_count": 25,
     "metadata": {},
     "output_type": "execute_result"
    }
   ],
   "source": [
    "adf.loc[10000]"
   ]
  },
  {
   "cell_type": "code",
   "execution_count": 30,
   "id": "00e91456",
   "metadata": {},
   "outputs": [
    {
     "data": {
      "text/plain": [
       "0        2024-07-09\n",
       "1        2024-07-09\n",
       "2        2024-07-09\n",
       "3        2024-07-09\n",
       "4        2024-07-08\n",
       "            ...    \n",
       "33869    2024-06-30\n",
       "33870    2024-06-30\n",
       "33871    2024-06-30\n",
       "33872    2024-06-30\n",
       "33873    2024-06-29\n",
       "Name: time, Length: 33874, dtype: object"
      ]
     },
     "execution_count": 30,
     "metadata": {},
     "output_type": "execute_result"
    }
   ],
   "source": [
    "df.time.dt.date"
   ]
  },
  {
   "cell_type": "code",
   "execution_count": 35,
   "id": "56ebd74e",
   "metadata": {},
   "outputs": [
    {
     "data": {
      "text/plain": [
       "time\n",
       "2024-06-29          5.00\n",
       "2024-06-30     105518.92\n",
       "2024-07-01     169321.47\n",
       "2024-07-02     151187.80\n",
       "2024-07-03     244693.12\n",
       "2024-07-04     289421.57\n",
       "2024-07-05     350826.75\n",
       "2024-07-06    1102882.22\n",
       "2024-07-07     134663.54\n",
       "2024-07-08      24822.00\n",
       "2024-07-09        120.00\n",
       "Name: amount, dtype: float64"
      ]
     },
     "execution_count": 35,
     "metadata": {},
     "output_type": "execute_result"
    }
   ],
   "source": [
    "df.groupby(by = df.time.dt.date)['amount'].sum()"
   ]
  },
  {
   "cell_type": "code",
   "execution_count": 34,
   "id": "46609030",
   "metadata": {
    "scrolled": true
   },
   "outputs": [
    {
     "data": {
      "text/plain": [
       "<Axes: xlabel='time'>"
      ]
     },
     "execution_count": 34,
     "metadata": {},
     "output_type": "execute_result"
    },
    {
     "data": {
      "image/png": "[encoded data removed]",
      "text/plain": [
       "<Figure size 640x480 with 1 Axes>"
      ]
     },
     "metadata": {},
     "output_type": "display_data"
    }
   ],
   "source": [
    "df.groupby(by = df.time.dt.date)['amount'].sum().plot.bar()"
   ]
  },
  {
   "cell_type": "code",
   "execution_count": 140,
   "id": "4e0be2b4",
   "metadata": {},
   "outputs": [],
   "source": [
    "dftotals = df.groupby(by = df.time.dt.date)['amount'].sum().reset_index()"
   ]
  },
  {
   "cell_type": "code",
   "execution_count": 145,
   "id": "7737ba4e",
   "metadata": {},
   "outputs": [],
   "source": [
    "dftotals = dftotals.loc[1:8]"
   ]
  },
  {
   "cell_type": "code",
   "execution_count": 147,
   "id": "76510e59",
   "metadata": {},
   "outputs": [],
   "source": [
    "dftotals['Day'] = ['Sunday','Monday','Tuesday','Wednesday','Thursday','Friday','Saturday','Sunday']"
   ]
  },
  {
   "cell_type": "code",
   "execution_count": 154,
   "id": "e35cbf98",
   "metadata": {},
   "outputs": [
    {
     "data": {
      "text/plain": [
       "<Axes: title={'center': 'Summer Games Done Quick 2024'}, ylabel='Million Dollars'>"
      ]
     },
     "execution_count": 154,
     "metadata": {},
     "output_type": "execute_result"
    },
    {
     "data": {
      "image/png": "[encoded data removed]",
      "text/plain": [
       "<Figure size 640x480 with 1 Axes>"
      ]
     },
     "metadata": {},
     "output_type": "display_data"
    }
   ],
   "source": [
    "dftotals.plot.bar(x='Day',legend=False,ylabel='Million Dollars',xlabel='',title = 'Summer Games Done Quick 2024')"
   ]
  },
  {
   "cell_type": "code",
   "execution_count": 37,
   "id": "153b5710",
   "metadata": {},
   "outputs": [],
   "source": [
    "adf.time = pd.to_datetime(adf.time)"
   ]
  },
  {
   "cell_type": "code",
   "execution_count": 38,
   "id": "229de842",
   "metadata": {
    "scrolled": true
   },
   "outputs": [
    {
     "data": {
      "text/plain": [
       "<Axes: xlabel='time'>"
      ]
     },
     "execution_count": 38,
     "metadata": {},
     "output_type": "execute_result"
    },
    {
     "data": {
      "image/png": "[encoded data removed]",
      "text/plain": [
       "<Figure size 640x480 with 1 Axes>"
      ]
     },
     "metadata": {},
     "output_type": "display_data"
    }
   ],
   "source": [
    "adf.groupby(by = adf.time.dt.date)['amount'].sum().plot.bar()"
   ]
  },
  {
   "cell_type": "code",
   "execution_count": 131,
   "id": "be09a1d0",
   "metadata": {},
   "outputs": [],
   "source": [
    "adftotals = adf.groupby(by = adf.time.dt.date)['amount'].sum().reset_index()"
   ]
  },
  {
   "cell_type": "code",
   "execution_count": 136,
   "id": "d9a7fd91",
   "metadata": {},
   "outputs": [
    {
     "data": {
      "text/html": [
       "<div>\n",
       "<style scoped>\n",
       "    .dataframe tbody tr th:only-of-type {\n",
       "        vertical-align: middle;\n",
       "    }\n",
       "\n",
       "    .dataframe tbody tr th {\n",
       "        vertical-align: top;\n",
       "    }\n",
       "\n",
       "    .dataframe thead th {\n",
       "        text-align: right;\n",
       "    }\n",
       "</style>\n",
       "<table border=\"1\" class=\"dataframe\">\n",
       "  <thead>\n",
       "    <tr style=\"text-align: right;\">\n",
       "      <th></th>\n",
       "      <th>time</th>\n",
       "      <th>amount</th>\n",
       "    </tr>\n",
       "  </thead>\n",
       "  <tbody>\n",
       "    <tr>\n",
       "      <th>2</th>\n",
       "      <td>2024-01-14</td>\n",
       "      <td>93560.27</td>\n",
       "    </tr>\n",
       "    <tr>\n",
       "      <th>3</th>\n",
       "      <td>2024-01-15</td>\n",
       "      <td>186835.18</td>\n",
       "    </tr>\n",
       "    <tr>\n",
       "      <th>4</th>\n",
       "      <td>2024-01-16</td>\n",
       "      <td>201861.74</td>\n",
       "    </tr>\n",
       "    <tr>\n",
       "      <th>5</th>\n",
       "      <td>2024-01-17</td>\n",
       "      <td>290388.40</td>\n",
       "    </tr>\n",
       "    <tr>\n",
       "      <th>6</th>\n",
       "      <td>2024-01-18</td>\n",
       "      <td>318574.43</td>\n",
       "    </tr>\n",
       "    <tr>\n",
       "      <th>7</th>\n",
       "      <td>2024-01-19</td>\n",
       "      <td>293936.28</td>\n",
       "    </tr>\n",
       "    <tr>\n",
       "      <th>8</th>\n",
       "      <td>2024-01-20</td>\n",
       "      <td>985183.25</td>\n",
       "    </tr>\n",
       "    <tr>\n",
       "      <th>9</th>\n",
       "      <td>2024-01-21</td>\n",
       "      <td>150696.66</td>\n",
       "    </tr>\n",
       "  </tbody>\n",
       "</table>\n",
       "</div>"
      ],
      "text/plain": [
       "         time     amount\n",
       "2  2024-01-14   93560.27\n",
       "3  2024-01-15  186835.18\n",
       "4  2024-01-16  201861.74\n",
       "5  2024-01-17  290388.40\n",
       "6  2024-01-18  318574.43\n",
       "7  2024-01-19  293936.28\n",
       "8  2024-01-20  985183.25\n",
       "9  2024-01-21  150696.66"
      ]
     },
     "execution_count": 136,
     "metadata": {},
     "output_type": "execute_result"
    }
   ],
   "source": [
    "adftotals.iloc[2:10]"
   ]
  },
  {
   "cell_type": "code",
   "execution_count": null,
   "id": "394fc422",
   "metadata": {},
   "outputs": [],
   "source": []
  },
  {
   "cell_type": "code",
   "execution_count": 39,
   "id": "66f3bc1a",
   "metadata": {},
   "outputs": [
    {
     "name": "stdout",
     "output_type": "stream",
     "text": [
      "(36183, 8)\n",
      "(33874, 4)\n"
     ]
    }
   ],
   "source": [
    "print(adf.shape)\n",
    "print(df.shape)"
   ]
  },
  {
   "cell_type": "code",
   "execution_count": 49,
   "id": "cc4496e0",
   "metadata": {},
   "outputs": [],
   "source": [
    "adfsat = adf.loc[(adf.time > '2024-01-20')&(adf.time < '2024-01-21')]"
   ]
  },
  {
   "cell_type": "code",
   "execution_count": 51,
   "id": "f609b58e",
   "metadata": {},
   "outputs": [],
   "source": [
    "dfsat = df.loc[(df.time > '2024-07-06')&(df.time < '2024-07-07')]"
   ]
  },
  {
   "cell_type": "code",
   "execution_count": 54,
   "id": "db1e6fa0",
   "metadata": {
    "scrolled": true
   },
   "outputs": [
    {
     "data": {
      "text/html": [
       "<div>\n",
       "<style scoped>\n",
       "    .dataframe tbody tr th:only-of-type {\n",
       "        vertical-align: middle;\n",
       "    }\n",
       "\n",
       "    .dataframe tbody tr th {\n",
       "        vertical-align: top;\n",
       "    }\n",
       "\n",
       "    .dataframe thead th {\n",
       "        text-align: right;\n",
       "    }\n",
       "</style>\n",
       "<table border=\"1\" class=\"dataframe\">\n",
       "  <thead>\n",
       "    <tr style=\"text-align: right;\">\n",
       "      <th></th>\n",
       "      <th>name</th>\n",
       "      <th>time</th>\n",
       "      <th>amount</th>\n",
       "      <th>comment</th>\n",
       "      <th>hour</th>\n",
       "      <th>day</th>\n",
       "      <th>datetime</th>\n",
       "      <th>run</th>\n",
       "    </tr>\n",
       "  </thead>\n",
       "  <tbody>\n",
       "    <tr>\n",
       "      <th>3372</th>\n",
       "      <td>Games Done Quick</td>\n",
       "      <td>2024-01-20 22:39:56</td>\n",
       "      <td>117906.0</td>\n",
       "      <td>Yes</td>\n",
       "      <td>22:00</td>\n",
       "      <td>20</td>\n",
       "      <td>1-20 22:00</td>\n",
       "      <td>Final Fantasy V</td>\n",
       "    </tr>\n",
       "  </tbody>\n",
       "</table>\n",
       "</div>"
      ],
      "text/plain": [
       "                  name                time    amount comment   hour  day  \\\n",
       "3372  Games Done Quick 2024-01-20 22:39:56  117906.0     Yes  22:00   20   \n",
       "\n",
       "        datetime              run  \n",
       "3372  1-20 22:00  Final Fantasy V  "
      ]
     },
     "execution_count": 54,
     "metadata": {},
     "output_type": "execute_result"
    }
   ],
   "source": [
    "adfsat.loc[adfsat.name == 'Games Done Quick']"
   ]
  },
  {
   "cell_type": "code",
   "execution_count": 55,
   "id": "db51b915",
   "metadata": {},
   "outputs": [
    {
     "data": {
      "text/html": [
       "<div>\n",
       "<style scoped>\n",
       "    .dataframe tbody tr th:only-of-type {\n",
       "        vertical-align: middle;\n",
       "    }\n",
       "\n",
       "    .dataframe tbody tr th {\n",
       "        vertical-align: top;\n",
       "    }\n",
       "\n",
       "    .dataframe thead th {\n",
       "        text-align: right;\n",
       "    }\n",
       "</style>\n",
       "<table border=\"1\" class=\"dataframe\">\n",
       "  <thead>\n",
       "    <tr style=\"text-align: right;\">\n",
       "      <th></th>\n",
       "      <th>name</th>\n",
       "      <th>time</th>\n",
       "      <th>amount</th>\n",
       "      <th>comment</th>\n",
       "    </tr>\n",
       "  </thead>\n",
       "  <tbody>\n",
       "    <tr>\n",
       "      <th>3096</th>\n",
       "      <td>Games Done Quick</td>\n",
       "      <td>2024-07-06 23:22:50</td>\n",
       "      <td>290000.0</td>\n",
       "      <td>Yes</td>\n",
       "    </tr>\n",
       "  </tbody>\n",
       "</table>\n",
       "</div>"
      ],
      "text/plain": [
       "                  name                time    amount comment\n",
       "3096  Games Done Quick 2024-07-06 23:22:50  290000.0     Yes"
      ]
     },
     "execution_count": 55,
     "metadata": {},
     "output_type": "execute_result"
    }
   ],
   "source": [
    "dfsat.loc[dfsat.name == 'Games Done Quick']"
   ]
  },
  {
   "cell_type": "code",
   "execution_count": 56,
   "id": "ce28b71a",
   "metadata": {
    "scrolled": true
   },
   "outputs": [
    {
     "data": {
      "text/plain": [
       "172094"
      ]
     },
     "execution_count": 56,
     "metadata": {},
     "output_type": "execute_result"
    }
   ],
   "source": [
    "# Games Done Quick Increase\n",
    "290000 - 117906"
   ]
  },
  {
   "cell_type": "code",
   "execution_count": 117,
   "id": "77179bf8",
   "metadata": {},
   "outputs": [
    {
     "data": {
      "text/plain": [
       "2.459586450223059"
      ]
     },
     "execution_count": 117,
     "metadata": {},
     "output_type": "execute_result"
    }
   ],
   "source": [
    "# Games Done Quick Percent Increase\n",
    "290000/117906"
   ]
  },
  {
   "cell_type": "code",
   "execution_count": 57,
   "id": "f7419ab1",
   "metadata": {
    "scrolled": true
   },
   "outputs": [
    {
     "data": {
      "text/plain": [
       "117698.96999999997"
      ]
     },
     "execution_count": 57,
     "metadata": {},
     "output_type": "execute_result"
    }
   ],
   "source": [
    "# Saturday Increase\n",
    "dfsat.amount.sum() - adfsat.amount.sum()"
   ]
  },
  {
   "cell_type": "code",
   "execution_count": 114,
   "id": "49323fca",
   "metadata": {
    "scrolled": false
   },
   "outputs": [
    {
     "data": {
      "text/plain": [
       "1.119469113994782"
      ]
     },
     "execution_count": 114,
     "metadata": {},
     "output_type": "execute_result"
    }
   ],
   "source": [
    "# Saturday Percent Increase\n",
    "dfsat.amount.sum()/adfsat.amount.sum()"
   ]
  },
  {
   "cell_type": "code",
   "execution_count": 58,
   "id": "18e98559",
   "metadata": {},
   "outputs": [
    {
     "data": {
      "text/plain": [
       "1.462165882173019"
      ]
     },
     "execution_count": 58,
     "metadata": {},
     "output_type": "execute_result"
    }
   ],
   "source": [
    "#Games Done Quick Increase divided by Saturday Increase\n",
    "172094/117698"
   ]
  },
  {
   "cell_type": "code",
   "execution_count": 59,
   "id": "a8f00589",
   "metadata": {},
   "outputs": [],
   "source": [
    "sponsors = ['The Yetee','Fangamer','Games Done Quick', 'Humble']"
   ]
  },
  {
   "cell_type": "code",
   "execution_count": 62,
   "id": "a27a7206",
   "metadata": {
    "scrolled": false
   },
   "outputs": [
    {
     "data": {
      "text/plain": [
       "2200650.21"
      ]
     },
     "execution_count": 62,
     "metadata": {},
     "output_type": "execute_result"
    }
   ],
   "source": [
    "adf.loc[~adf.name.isin(sponsors)].amount.sum()"
   ]
  },
  {
   "cell_type": "code",
   "execution_count": 61,
   "id": "68f281bc",
   "metadata": {
    "scrolled": true
   },
   "outputs": [
    {
     "data": {
      "text/plain": [
       "2026970.39"
      ]
     },
     "execution_count": 61,
     "metadata": {},
     "output_type": "execute_result"
    }
   ],
   "source": [
    "df.loc[~df.name.isin(sponsors)].amount.sum()"
   ]
  },
  {
   "cell_type": "code",
   "execution_count": 107,
   "id": "ee4d4169",
   "metadata": {},
   "outputs": [
    {
     "data": {
      "text/plain": [
       "339207.0"
      ]
     },
     "execution_count": 107,
     "metadata": {},
     "output_type": "execute_result"
    }
   ],
   "source": [
    "adf.loc[adf.name.isin(sponsors)].amount.sum()"
   ]
  },
  {
   "cell_type": "code",
   "execution_count": 108,
   "id": "a39a1296",
   "metadata": {
    "scrolled": true
   },
   "outputs": [
    {
     "data": {
      "text/plain": [
       "546492.0"
      ]
     },
     "execution_count": 108,
     "metadata": {},
     "output_type": "execute_result"
    }
   ],
   "source": [
    "df.loc[df.name.isin(sponsors)].amount.sum()"
   ]
  },
  {
   "cell_type": "code",
   "execution_count": 109,
   "id": "8af740bd",
   "metadata": {
    "scrolled": true
   },
   "outputs": [
    {
     "data": {
      "text/plain": [
       "-173679.82000000007"
      ]
     },
     "execution_count": 109,
     "metadata": {},
     "output_type": "execute_result"
    }
   ],
   "source": [
    "# Decrease in nonsponsor donations\n",
    "df.loc[~df.name.isin(sponsors)].amount.sum() - adf.loc[~adf.name.isin(sponsors)].amount.sum()"
   ]
  },
  {
   "cell_type": "code",
   "execution_count": 119,
   "id": "70120403",
   "metadata": {},
   "outputs": [
    {
     "data": {
      "text/plain": [
       "0.9210779526838115"
      ]
     },
     "execution_count": 119,
     "metadata": {},
     "output_type": "execute_result"
    }
   ],
   "source": [
    "# Percent Decrease\n",
    "df.loc[~df.name.isin(sponsors)].amount.sum() / adf.loc[~adf.name.isin(sponsors)].amount.sum()"
   ]
  },
  {
   "cell_type": "code",
   "execution_count": 110,
   "id": "0dceadab",
   "metadata": {},
   "outputs": [
    {
     "data": {
      "text/plain": [
       "207285.0"
      ]
     },
     "execution_count": 110,
     "metadata": {},
     "output_type": "execute_result"
    }
   ],
   "source": [
    "# Increase in sponsor donations\n",
    "df.loc[df.name.isin(sponsors)].amount.sum() - adf.loc[adf.name.isin(sponsors)].amount.sum()"
   ]
  },
  {
   "cell_type": "code",
   "execution_count": 120,
   "id": "312de6c9",
   "metadata": {},
   "outputs": [
    {
     "data": {
      "text/plain": [
       "1.611087035350096"
      ]
     },
     "execution_count": 120,
     "metadata": {},
     "output_type": "execute_result"
    }
   ],
   "source": [
    "# Percent increase sponsor\n",
    "df.loc[df.name.isin(sponsors)].amount.sum() / adf.loc[adf.name.isin(sponsors)].amount.sum()"
   ]
  },
  {
   "cell_type": "code",
   "execution_count": 112,
   "id": "b94113de",
   "metadata": {},
   "outputs": [
    {
     "data": {
      "text/plain": [
       "33606"
      ]
     },
     "execution_count": 112,
     "metadata": {},
     "output_type": "execute_result"
    }
   ],
   "source": [
    "207285-173679"
   ]
  },
  {
   "cell_type": "code",
   "execution_count": 69,
   "id": "552fb406",
   "metadata": {},
   "outputs": [],
   "source": [
    "adftrim = adf[['name','time','amount','comment']]"
   ]
  },
  {
   "cell_type": "code",
   "execution_count": 121,
   "id": "2f18b0e5",
   "metadata": {},
   "outputs": [],
   "source": [
    "df['event'] = 'July 2024'"
   ]
  },
  {
   "cell_type": "code",
   "execution_count": 122,
   "id": "6b51ecd3",
   "metadata": {},
   "outputs": [],
   "source": [
    "adftrim['event'] = 'January 2024'"
   ]
  },
  {
   "cell_type": "code",
   "execution_count": 123,
   "id": "9a65012e",
   "metadata": {},
   "outputs": [],
   "source": [
    "gdq = pd.concat([df,adftrim])"
   ]
  },
  {
   "cell_type": "code",
   "execution_count": 124,
   "id": "50fa425e",
   "metadata": {},
   "outputs": [],
   "source": [
    "topdonors = gdq.groupby(by = ['event','name'])['amount'].sum().sort_values().tail(10).reset_index()"
   ]
  },
  {
   "cell_type": "code",
   "execution_count": 125,
   "id": "1a6f306a",
   "metadata": {},
   "outputs": [],
   "source": [
    "topdonors['event name'] = topdonors['name'] + ' ' + topdonors['event']"
   ]
  },
  {
   "cell_type": "code",
   "execution_count": 126,
   "id": "b03946ed",
   "metadata": {},
   "outputs": [
    {
     "data": {
      "text/html": [
       "<div>\n",
       "<style scoped>\n",
       "    .dataframe tbody tr th:only-of-type {\n",
       "        vertical-align: middle;\n",
       "    }\n",
       "\n",
       "    .dataframe tbody tr th {\n",
       "        vertical-align: top;\n",
       "    }\n",
       "\n",
       "    .dataframe thead th {\n",
       "        text-align: right;\n",
       "    }\n",
       "</style>\n",
       "<table border=\"1\" class=\"dataframe\">\n",
       "  <thead>\n",
       "    <tr style=\"text-align: right;\">\n",
       "      <th></th>\n",
       "      <th>event</th>\n",
       "      <th>name</th>\n",
       "      <th>amount</th>\n",
       "      <th>event name</th>\n",
       "    </tr>\n",
       "  </thead>\n",
       "  <tbody>\n",
       "    <tr>\n",
       "      <th>0</th>\n",
       "      <td>July 2024</td>\n",
       "      <td>Humble</td>\n",
       "      <td>23070.00</td>\n",
       "      <td>Humble July 2024</td>\n",
       "    </tr>\n",
       "    <tr>\n",
       "      <th>1</th>\n",
       "      <td>July 2024</td>\n",
       "      <td>Fangamer</td>\n",
       "      <td>45000.00</td>\n",
       "      <td>Fangamer July 2024</td>\n",
       "    </tr>\n",
       "    <tr>\n",
       "      <th>2</th>\n",
       "      <td>January 2024</td>\n",
       "      <td>Humble Bundle</td>\n",
       "      <td>51578.00</td>\n",
       "      <td>Humble Bundle January 2024</td>\n",
       "    </tr>\n",
       "    <tr>\n",
       "      <th>3</th>\n",
       "      <td>January 2024</td>\n",
       "      <td>Fangamer</td>\n",
       "      <td>74983.00</td>\n",
       "      <td>Fangamer January 2024</td>\n",
       "    </tr>\n",
       "    <tr>\n",
       "      <th>4</th>\n",
       "      <td>January 2024</td>\n",
       "      <td>Games Done Quick</td>\n",
       "      <td>117906.00</td>\n",
       "      <td>Games Done Quick January 2024</td>\n",
       "    </tr>\n",
       "    <tr>\n",
       "      <th>5</th>\n",
       "      <td>January 2024</td>\n",
       "      <td>The Yetee</td>\n",
       "      <td>146318.00</td>\n",
       "      <td>The Yetee January 2024</td>\n",
       "    </tr>\n",
       "    <tr>\n",
       "      <th>6</th>\n",
       "      <td>July 2024</td>\n",
       "      <td>The Yetee</td>\n",
       "      <td>188422.00</td>\n",
       "      <td>The Yetee July 2024</td>\n",
       "    </tr>\n",
       "    <tr>\n",
       "      <th>7</th>\n",
       "      <td>July 2024</td>\n",
       "      <td>Games Done Quick</td>\n",
       "      <td>290000.00</td>\n",
       "      <td>Games Done Quick July 2024</td>\n",
       "    </tr>\n",
       "    <tr>\n",
       "      <th>8</th>\n",
       "      <td>January 2024</td>\n",
       "      <td>(Anonymous)</td>\n",
       "      <td>524589.46</td>\n",
       "      <td>(Anonymous) January 2024</td>\n",
       "    </tr>\n",
       "    <tr>\n",
       "      <th>9</th>\n",
       "      <td>July 2024</td>\n",
       "      <td>(Anonymous)</td>\n",
       "      <td>541795.14</td>\n",
       "      <td>(Anonymous) July 2024</td>\n",
       "    </tr>\n",
       "  </tbody>\n",
       "</table>\n",
       "</div>"
      ],
      "text/plain": [
       "          event              name     amount                     event name\n",
       "0     July 2024            Humble   23070.00               Humble July 2024\n",
       "1     July 2024          Fangamer   45000.00             Fangamer July 2024\n",
       "2  January 2024     Humble Bundle   51578.00     Humble Bundle January 2024\n",
       "3  January 2024          Fangamer   74983.00          Fangamer January 2024\n",
       "4  January 2024  Games Done Quick  117906.00  Games Done Quick January 2024\n",
       "5  January 2024         The Yetee  146318.00         The Yetee January 2024\n",
       "6     July 2024         The Yetee  188422.00            The Yetee July 2024\n",
       "7     July 2024  Games Done Quick  290000.00     Games Done Quick July 2024\n",
       "8  January 2024       (Anonymous)  524589.46       (Anonymous) January 2024\n",
       "9     July 2024       (Anonymous)  541795.14          (Anonymous) July 2024"
      ]
     },
     "execution_count": 126,
     "metadata": {},
     "output_type": "execute_result"
    }
   ],
   "source": [
    "topdonors"
   ]
  },
  {
   "cell_type": "code",
   "execution_count": 156,
   "id": "1bf39f84",
   "metadata": {},
   "outputs": [
    {
     "data": {
      "text/plain": [
       "<Axes: title={'center': 'Top Donor Comparison'}, xlabel='Dollars'>"
      ]
     },
     "execution_count": 156,
     "metadata": {},
     "output_type": "execute_result"
    },
    {
     "data": {
      "image/png": "[encoded data removed]",
      "text/plain": [
       "<Figure size 640x480 with 1 Axes>"
      ]
     },
     "metadata": {},
     "output_type": "display_data"
    }
   ],
   "source": [
    "topdonors.sort_values('event name').plot.barh(x = 'event name',title='Top Donor Comparison',ylabel='',xlabel='Dollars',legend = False)"
   ]
  },
  {
   "cell_type": "code",
   "execution_count": 104,
   "id": "f16bded1",
   "metadata": {},
   "outputs": [
    {
     "data": {
      "text/html": [
       "<div>\n",
       "<style scoped>\n",
       "    .dataframe tbody tr th:only-of-type {\n",
       "        vertical-align: middle;\n",
       "    }\n",
       "\n",
       "    .dataframe tbody tr th {\n",
       "        vertical-align: top;\n",
       "    }\n",
       "\n",
       "    .dataframe thead th {\n",
       "        text-align: right;\n",
       "    }\n",
       "</style>\n",
       "<table border=\"1\" class=\"dataframe\">\n",
       "  <thead>\n",
       "    <tr style=\"text-align: right;\">\n",
       "      <th></th>\n",
       "      <th>event</th>\n",
       "      <th>name</th>\n",
       "      <th>amount</th>\n",
       "      <th>event name</th>\n",
       "    </tr>\n",
       "  </thead>\n",
       "  <tbody>\n",
       "    <tr>\n",
       "      <th>0</th>\n",
       "      <td>summer2024</td>\n",
       "      <td>Humble</td>\n",
       "      <td>23070.00</td>\n",
       "      <td>Humble summer2024</td>\n",
       "    </tr>\n",
       "    <tr>\n",
       "      <th>1</th>\n",
       "      <td>summer2024</td>\n",
       "      <td>Fangamer</td>\n",
       "      <td>45000.00</td>\n",
       "      <td>Fangamer summer2024</td>\n",
       "    </tr>\n",
       "    <tr>\n",
       "      <th>2</th>\n",
       "      <td>awesome2024</td>\n",
       "      <td>Humble Bundle</td>\n",
       "      <td>51578.00</td>\n",
       "      <td>Humble Bundle awesome2024</td>\n",
       "    </tr>\n",
       "    <tr>\n",
       "      <th>3</th>\n",
       "      <td>awesome2024</td>\n",
       "      <td>Fangamer</td>\n",
       "      <td>74983.00</td>\n",
       "      <td>Fangamer awesome2024</td>\n",
       "    </tr>\n",
       "    <tr>\n",
       "      <th>4</th>\n",
       "      <td>awesome2024</td>\n",
       "      <td>Games Done Quick</td>\n",
       "      <td>117906.00</td>\n",
       "      <td>Games Done Quick awesome2024</td>\n",
       "    </tr>\n",
       "    <tr>\n",
       "      <th>5</th>\n",
       "      <td>awesome2024</td>\n",
       "      <td>The Yetee</td>\n",
       "      <td>146318.00</td>\n",
       "      <td>The Yetee awesome2024</td>\n",
       "    </tr>\n",
       "    <tr>\n",
       "      <th>6</th>\n",
       "      <td>summer2024</td>\n",
       "      <td>The Yetee</td>\n",
       "      <td>188422.00</td>\n",
       "      <td>The Yetee summer2024</td>\n",
       "    </tr>\n",
       "    <tr>\n",
       "      <th>7</th>\n",
       "      <td>summer2024</td>\n",
       "      <td>Games Done Quick</td>\n",
       "      <td>290000.00</td>\n",
       "      <td>Games Done Quick summer2024</td>\n",
       "    </tr>\n",
       "    <tr>\n",
       "      <th>8</th>\n",
       "      <td>awesome2024</td>\n",
       "      <td>(Anonymous)</td>\n",
       "      <td>524589.46</td>\n",
       "      <td>(Anonymous) awesome2024</td>\n",
       "    </tr>\n",
       "    <tr>\n",
       "      <th>9</th>\n",
       "      <td>summer2024</td>\n",
       "      <td>(Anonymous)</td>\n",
       "      <td>541795.14</td>\n",
       "      <td>(Anonymous) summer2024</td>\n",
       "    </tr>\n",
       "  </tbody>\n",
       "</table>\n",
       "</div>"
      ],
      "text/plain": [
       "         event              name     amount                    event name\n",
       "0   summer2024            Humble   23070.00             Humble summer2024\n",
       "1   summer2024          Fangamer   45000.00           Fangamer summer2024\n",
       "2  awesome2024     Humble Bundle   51578.00     Humble Bundle awesome2024\n",
       "3  awesome2024          Fangamer   74983.00          Fangamer awesome2024\n",
       "4  awesome2024  Games Done Quick  117906.00  Games Done Quick awesome2024\n",
       "5  awesome2024         The Yetee  146318.00         The Yetee awesome2024\n",
       "6   summer2024         The Yetee  188422.00          The Yetee summer2024\n",
       "7   summer2024  Games Done Quick  290000.00   Games Done Quick summer2024\n",
       "8  awesome2024       (Anonymous)  524589.46       (Anonymous) awesome2024\n",
       "9   summer2024       (Anonymous)  541795.14        (Anonymous) summer2024"
      ]
     },
     "execution_count": 104,
     "metadata": {},
     "output_type": "execute_result"
    }
   ],
   "source": [
    "topdonors"
   ]
  },
  {
   "cell_type": "code",
   "execution_count": 116,
   "id": "fe2584e1",
   "metadata": {},
   "outputs": [
    {
     "data": {
      "text/plain": [
       "1.014000000787446"
      ]
     },
     "execution_count": 116,
     "metadata": {},
     "output_type": "execute_result"
    }
   ],
   "source": [
    "2575415/2539857"
   ]
  },
  {
   "cell_type": "code",
   "execution_count": null,
   "id": "7990cb63",
   "metadata": {},
   "outputs": [],
   "source": [
    "# 1.4% increase from Jan to July\n",
    "# 12% increase on Saturday\n",
    "\n",
    "#Overall\n",
    "# Sponsor donations increased by 61%\n",
    "# Thanks to Games Done Quick donation increase of 145%\n",
    "# Non sponsor donations decreased by 8%"
   ]
  },
  {
   "cell_type": "code",
   "execution_count": 157,
   "id": "45ffea05",
   "metadata": {},
   "outputs": [
    {
     "data": {
      "text/html": [
       "<div>\n",
       "<style scoped>\n",
       "    .dataframe tbody tr th:only-of-type {\n",
       "        vertical-align: middle;\n",
       "    }\n",
       "\n",
       "    .dataframe tbody tr th {\n",
       "        vertical-align: top;\n",
       "    }\n",
       "\n",
       "    .dataframe thead th {\n",
       "        text-align: right;\n",
       "    }\n",
       "</style>\n",
       "<table border=\"1\" class=\"dataframe\">\n",
       "  <thead>\n",
       "    <tr style=\"text-align: right;\">\n",
       "      <th></th>\n",
       "      <th>name</th>\n",
       "      <th>time</th>\n",
       "      <th>amount</th>\n",
       "      <th>comment</th>\n",
       "      <th>event</th>\n",
       "    </tr>\n",
       "  </thead>\n",
       "  <tbody>\n",
       "    <tr>\n",
       "      <th>0</th>\n",
       "      <td>Murphy</td>\n",
       "      <td>2024-07-09 16:58:05.458407</td>\n",
       "      <td>5.0</td>\n",
       "      <td>Yes</td>\n",
       "      <td>July 2024</td>\n",
       "    </tr>\n",
       "    <tr>\n",
       "      <th>1</th>\n",
       "      <td>Chris</td>\n",
       "      <td>2024-07-09 14:40:30.484599</td>\n",
       "      <td>100.0</td>\n",
       "      <td>Yes</td>\n",
       "      <td>July 2024</td>\n",
       "    </tr>\n",
       "    <tr>\n",
       "      <th>2</th>\n",
       "      <td>whispertell</td>\n",
       "      <td>2024-07-09 09:25:48.918931</td>\n",
       "      <td>5.0</td>\n",
       "      <td>Yes</td>\n",
       "      <td>July 2024</td>\n",
       "    </tr>\n",
       "    <tr>\n",
       "      <th>3</th>\n",
       "      <td>(Anonymous)</td>\n",
       "      <td>2024-07-09 07:41:10.499014</td>\n",
       "      <td>10.0</td>\n",
       "      <td>No</td>\n",
       "      <td>July 2024</td>\n",
       "    </tr>\n",
       "    <tr>\n",
       "      <th>4</th>\n",
       "      <td>(Anonymous)</td>\n",
       "      <td>2024-07-08 17:51:08.288931</td>\n",
       "      <td>50.0</td>\n",
       "      <td>No</td>\n",
       "      <td>July 2024</td>\n",
       "    </tr>\n",
       "    <tr>\n",
       "      <th>...</th>\n",
       "      <td>...</td>\n",
       "      <td>...</td>\n",
       "      <td>...</td>\n",
       "      <td>...</td>\n",
       "      <td>...</td>\n",
       "    </tr>\n",
       "    <tr>\n",
       "      <th>33869</th>\n",
       "      <td>Jesse Cramblit</td>\n",
       "      <td>2024-06-30 11:00:40.033139</td>\n",
       "      <td>10.0</td>\n",
       "      <td>No</td>\n",
       "      <td>July 2024</td>\n",
       "    </tr>\n",
       "    <tr>\n",
       "      <th>33870</th>\n",
       "      <td>BuffaloChickenMan</td>\n",
       "      <td>2024-06-30 10:56:09.227786</td>\n",
       "      <td>5.0</td>\n",
       "      <td>Yes</td>\n",
       "      <td>July 2024</td>\n",
       "    </tr>\n",
       "    <tr>\n",
       "      <th>33871</th>\n",
       "      <td>TwistyMazeLittlePassage</td>\n",
       "      <td>2024-06-30 10:25:31.658919</td>\n",
       "      <td>1000.0</td>\n",
       "      <td>Yes</td>\n",
       "      <td>July 2024</td>\n",
       "    </tr>\n",
       "    <tr>\n",
       "      <th>33872</th>\n",
       "      <td>Drakon</td>\n",
       "      <td>2024-06-30 09:30:53.458388</td>\n",
       "      <td>5.0</td>\n",
       "      <td>Yes</td>\n",
       "      <td>July 2024</td>\n",
       "    </tr>\n",
       "    <tr>\n",
       "      <th>33873</th>\n",
       "      <td>UraniumAnchor</td>\n",
       "      <td>2024-06-29 21:10:15.773173</td>\n",
       "      <td>5.0</td>\n",
       "      <td>Yes</td>\n",
       "      <td>July 2024</td>\n",
       "    </tr>\n",
       "  </tbody>\n",
       "</table>\n",
       "<p>33874 rows × 5 columns</p>\n",
       "</div>"
      ],
      "text/plain": [
       "                          name                       time  amount comment  \\\n",
       "0                       Murphy 2024-07-09 16:58:05.458407     5.0     Yes   \n",
       "1                        Chris 2024-07-09 14:40:30.484599   100.0     Yes   \n",
       "2                  whispertell 2024-07-09 09:25:48.918931     5.0     Yes   \n",
       "3                  (Anonymous) 2024-07-09 07:41:10.499014    10.0      No   \n",
       "4                  (Anonymous) 2024-07-08 17:51:08.288931    50.0      No   \n",
       "...                        ...                        ...     ...     ...   \n",
       "33869           Jesse Cramblit 2024-06-30 11:00:40.033139    10.0      No   \n",
       "33870        BuffaloChickenMan 2024-06-30 10:56:09.227786     5.0     Yes   \n",
       "33871  TwistyMazeLittlePassage 2024-06-30 10:25:31.658919  1000.0     Yes   \n",
       "33872                   Drakon 2024-06-30 09:30:53.458388     5.0     Yes   \n",
       "33873            UraniumAnchor 2024-06-29 21:10:15.773173     5.0     Yes   \n",
       "\n",
       "           event  \n",
       "0      July 2024  \n",
       "1      July 2024  \n",
       "2      July 2024  \n",
       "3      July 2024  \n",
       "4      July 2024  \n",
       "...          ...  \n",
       "33869  July 2024  \n",
       "33870  July 2024  \n",
       "33871  July 2024  \n",
       "33872  July 2024  \n",
       "33873  July 2024  \n",
       "\n",
       "[33874 rows x 5 columns]"
      ]
     },
     "execution_count": 157,
     "metadata": {},
     "output_type": "execute_result"
    }
   ],
   "source": [
    "df"
   ]
  },
  {
   "cell_type": "code",
   "execution_count": 158,
   "id": "6e63bd51",
   "metadata": {},
   "outputs": [],
   "source": [
    "df.to_csv('data/sgdq2024.csv',index=False)"
   ]
  },
  {
   "cell_type": "code",
   "execution_count": 159,
   "id": "be58026d",
   "metadata": {},
   "outputs": [
    {
     "data": {
      "text/html": [
       "<div>\n",
       "<style scoped>\n",
       "    .dataframe tbody tr th:only-of-type {\n",
       "        vertical-align: middle;\n",
       "    }\n",
       "\n",
       "    .dataframe tbody tr th {\n",
       "        vertical-align: top;\n",
       "    }\n",
       "\n",
       "    .dataframe thead th {\n",
       "        text-align: right;\n",
       "    }\n",
       "</style>\n",
       "<table border=\"1\" class=\"dataframe\">\n",
       "  <thead>\n",
       "    <tr style=\"text-align: right;\">\n",
       "      <th></th>\n",
       "      <th>name</th>\n",
       "      <th>time</th>\n",
       "      <th>amount</th>\n",
       "      <th>comment</th>\n",
       "      <th>event</th>\n",
       "    </tr>\n",
       "  </thead>\n",
       "  <tbody>\n",
       "    <tr>\n",
       "      <th>0</th>\n",
       "      <td>Murphy</td>\n",
       "      <td>2024-07-09 16:58:05.458407</td>\n",
       "      <td>5.0</td>\n",
       "      <td>Yes</td>\n",
       "      <td>July 2024</td>\n",
       "    </tr>\n",
       "    <tr>\n",
       "      <th>1</th>\n",
       "      <td>Chris</td>\n",
       "      <td>2024-07-09 14:40:30.484599</td>\n",
       "      <td>100.0</td>\n",
       "      <td>Yes</td>\n",
       "      <td>July 2024</td>\n",
       "    </tr>\n",
       "    <tr>\n",
       "      <th>2</th>\n",
       "      <td>whispertell</td>\n",
       "      <td>2024-07-09 09:25:48.918931</td>\n",
       "      <td>5.0</td>\n",
       "      <td>Yes</td>\n",
       "      <td>July 2024</td>\n",
       "    </tr>\n",
       "    <tr>\n",
       "      <th>3</th>\n",
       "      <td>(Anonymous)</td>\n",
       "      <td>2024-07-09 07:41:10.499014</td>\n",
       "      <td>10.0</td>\n",
       "      <td>No</td>\n",
       "      <td>July 2024</td>\n",
       "    </tr>\n",
       "    <tr>\n",
       "      <th>4</th>\n",
       "      <td>(Anonymous)</td>\n",
       "      <td>2024-07-08 17:51:08.288931</td>\n",
       "      <td>50.0</td>\n",
       "      <td>No</td>\n",
       "      <td>July 2024</td>\n",
       "    </tr>\n",
       "    <tr>\n",
       "      <th>...</th>\n",
       "      <td>...</td>\n",
       "      <td>...</td>\n",
       "      <td>...</td>\n",
       "      <td>...</td>\n",
       "      <td>...</td>\n",
       "    </tr>\n",
       "    <tr>\n",
       "      <th>33869</th>\n",
       "      <td>Jesse Cramblit</td>\n",
       "      <td>2024-06-30 11:00:40.033139</td>\n",
       "      <td>10.0</td>\n",
       "      <td>No</td>\n",
       "      <td>July 2024</td>\n",
       "    </tr>\n",
       "    <tr>\n",
       "      <th>33870</th>\n",
       "      <td>BuffaloChickenMan</td>\n",
       "      <td>2024-06-30 10:56:09.227786</td>\n",
       "      <td>5.0</td>\n",
       "      <td>Yes</td>\n",
       "      <td>July 2024</td>\n",
       "    </tr>\n",
       "    <tr>\n",
       "      <th>33871</th>\n",
       "      <td>TwistyMazeLittlePassage</td>\n",
       "      <td>2024-06-30 10:25:31.658919</td>\n",
       "      <td>1000.0</td>\n",
       "      <td>Yes</td>\n",
       "      <td>July 2024</td>\n",
       "    </tr>\n",
       "    <tr>\n",
       "      <th>33872</th>\n",
       "      <td>Drakon</td>\n",
       "      <td>2024-06-30 09:30:53.458388</td>\n",
       "      <td>5.0</td>\n",
       "      <td>Yes</td>\n",
       "      <td>July 2024</td>\n",
       "    </tr>\n",
       "    <tr>\n",
       "      <th>33873</th>\n",
       "      <td>UraniumAnchor</td>\n",
       "      <td>2024-06-29 21:10:15.773173</td>\n",
       "      <td>5.0</td>\n",
       "      <td>Yes</td>\n",
       "      <td>July 2024</td>\n",
       "    </tr>\n",
       "  </tbody>\n",
       "</table>\n",
       "<p>33874 rows × 5 columns</p>\n",
       "</div>"
      ],
      "text/plain": [
       "                          name                        time  amount comment  \\\n",
       "0                       Murphy  2024-07-09 16:58:05.458407     5.0     Yes   \n",
       "1                        Chris  2024-07-09 14:40:30.484599   100.0     Yes   \n",
       "2                  whispertell  2024-07-09 09:25:48.918931     5.0     Yes   \n",
       "3                  (Anonymous)  2024-07-09 07:41:10.499014    10.0      No   \n",
       "4                  (Anonymous)  2024-07-08 17:51:08.288931    50.0      No   \n",
       "...                        ...                         ...     ...     ...   \n",
       "33869           Jesse Cramblit  2024-06-30 11:00:40.033139    10.0      No   \n",
       "33870        BuffaloChickenMan  2024-06-30 10:56:09.227786     5.0     Yes   \n",
       "33871  TwistyMazeLittlePassage  2024-06-30 10:25:31.658919  1000.0     Yes   \n",
       "33872                   Drakon  2024-06-30 09:30:53.458388     5.0     Yes   \n",
       "33873            UraniumAnchor  2024-06-29 21:10:15.773173     5.0     Yes   \n",
       "\n",
       "           event  \n",
       "0      July 2024  \n",
       "1      July 2024  \n",
       "2      July 2024  \n",
       "3      July 2024  \n",
       "4      July 2024  \n",
       "...          ...  \n",
       "33869  July 2024  \n",
       "33870  July 2024  \n",
       "33871  July 2024  \n",
       "33872  July 2024  \n",
       "33873  July 2024  \n",
       "\n",
       "[33874 rows x 5 columns]"
      ]
     },
     "execution_count": 159,
     "metadata": {},
     "output_type": "execute_result"
    }
   ],
   "source": [
    "pd.read_csv('data/sgdq2024.csv')"
   ]
  },
  {
   "cell_type": "code",
   "execution_count": null,
   "id": "2cba5597",
   "metadata": {},
   "outputs": [],
   "source": []
  }
 ],
 "metadata": {
  "kernelspec": {
   "display_name": "Python 3 (ipykernel)",
   "language": "python",
   "name": "python3"
  },
  "language_info": {
   "codemirror_mode": {
    "name": "ipython",
    "version": 3
   },
   "file_extension": ".py",
   "mimetype": "text/x-python",
   "name": "python",
   "nbconvert_exporter": "python",
   "pygments_lexer": "ipython3",
   "version": "3.11.5"
  }
 },
 "nbformat": 4,
 "nbformat_minor": 5
}
